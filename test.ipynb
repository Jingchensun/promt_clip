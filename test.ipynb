{
 "cells": [
  {
   "cell_type": "code",
   "execution_count": null,
   "metadata": {},
   "outputs": [],
   "source": [
    "import os\n",
    "import pickle\n",
    "\n",
    "preprocessed = os.path.join('/home/jason/data/caltech-101/split_fewshot', f\"shot_1-seed_1.pkl\")\n",
    "            \n",
    "with open(preprocessed, \"rb\") as file:\n",
    "    data = pickle.load(file)\n",
    "    train, val = data[\"train\"], data[\"val\"]\n",
    "    print(data[\"train\"])\n",
    "\n"
   ]
  },
  {
   "cell_type": "code",
   "execution_count": null,
   "metadata": {},
   "outputs": [],
   "source": [
    "import pickle\n",
    "fr=open('/home/jason/data/caltech-101/split_fewshot/shot_1-seed_1.pkl','rb')\n",
    "inf = pickle.load(fr)\n",
    "doc = open('1.txt', 'a')\n",
    "print(inf, file=doc)\n",
    "\n",
    "import numpy as np\n",
    "np.set_printoptions(threshold=np.inf)\n",
    "\n",
    "np.set_printoptions(linewidth=1000)\n"
   ]
  },
  {
   "cell_type": "code",
   "execution_count": 36,
   "metadata": {},
   "outputs": [
    {
     "name": "stdout",
     "output_type": "stream",
     "text": [
      "4\n",
      "{0: 'face', 1: 'leopard', 2: 'motorbike', 3: 'accordion', 4: 'airplane', 5: 'anchor', 6: 'ant', 7: 'barrel', 8: 'bass', 9: 'beaver', 10: 'binocular', 11: 'bonsai', 12: 'brain', 13: 'brontosaurus', 14: 'buddha', 15: 'butterfly', 16: 'camera', 17: 'cannon', 18: 'car_side', 19: 'ceiling_fan', 20: 'cellphone', 21: 'chair', 22: 'chandelier', 23: 'cougar_body', 24: 'cougar_face', 25: 'crab', 26: 'crayfish', 27: 'crocodile', 28: 'crocodile_head', 29: 'cup', 30: 'dalmatian', 31: 'dollar_bill', 32: 'dolphin', 33: 'dragonfly', 34: 'electric_guitar', 35: 'elephant', 36: 'emu', 37: 'euphonium', 38: 'ewer', 39: 'ferry', 40: 'flamingo', 41: 'flamingo_head', 42: 'garfield', 43: 'gerenuk', 44: 'gramophone', 45: 'grand_piano', 46: 'hawksbill', 47: 'headphone', 48: 'hedgehog', 49: 'helicopter', 50: 'ibis', 51: 'inline_skate', 52: 'joshua_tree', 53: 'kangaroo', 54: 'ketch', 55: 'lamp', 56: 'laptop', 57: 'llama', 58: 'lobster', 59: 'lotus', 60: 'mandolin', 61: 'mayfly', 62: 'menorah', 63: 'metronome', 64: 'minaret', 65: 'nautilus', 66: 'octopus', 67: 'okapi', 68: 'pagoda', 69: 'panda', 70: 'pigeon', 71: 'pizza', 72: 'platypus', 73: 'pyramid', 74: 'revolver', 75: 'rhino', 76: 'rooster', 77: 'saxophone', 78: 'schooner', 79: 'scissors', 80: 'scorpion', 81: 'sea_horse', 82: 'snoopy', 83: 'soccer_ball', 84: 'stapler', 85: 'starfish', 86: 'stegosaurus', 87: 'stop_sign', 88: 'strawberry', 89: 'sunflower', 90: 'tick', 91: 'trilobite', 92: 'umbrella', 93: 'watch', 94: 'water_lilly', 95: 'wheelchair', 96: 'wild_cat', 97: 'windsor_chair', 98: 'wrench', '99': 'yin_yang'}\n"
     ]
    }
   ],
   "source": [
    "import json\n",
    "\n",
    "a = '/home/jason/coop/data/caltech-101/split_zhou_Caltech101.json'\n",
    "dic = dict()\n",
    "l1= []\n",
    "l2 = []\n",
    "train1=[]\n",
    "\n",
    "with open(a, 'r') as fcc_file:\n",
    "    fcc_data = json.load(fcc_file)\n",
    "    train = fcc_data['train']\n",
    "    #print(train)\n",
    "    print(train[1000][1])\n",
    "    for i in range(len(train)-1):\n",
    "        if train[i+1][1] ==  train[i][1]:\n",
    "            continue\n",
    "        else:\n",
    "            train1.append(train[i])\n",
    "    for j in range(len(train1)):\n",
    "        l1.append(train1[j][1])\n",
    "        l2.append(train1[j][2])\n",
    "    l1.append('99')\n",
    "    l2.append('yin_yang')\n",
    "    dic = {k:v for k,v in zip(l1,l2)}\n",
    "    \n",
    "print(dic)\n",
    "\n",
    "\n",
    "\n",
    "b = json.dumps(dic)\n",
    "f2 = open('caltech.json', 'w')\n",
    "f2.write(b)\n",
    "f2.close()"
   ]
  },
  {
   "cell_type": "code",
   "execution_count": 5,
   "metadata": {},
   "outputs": [
    {
     "name": "stdout",
     "output_type": "stream",
     "text": [
      "['This is a photo of leopard', 'This is a photo of motorbike', 'This is a photo of accordion', 'This is a photo of airplane', 'This is a photo of anchor']\n"
     ]
    }
   ],
   "source": [
    "import json\n",
    "\n",
    "\n",
    "c = [1,2,3,4,5]\n",
    "m=[]\n",
    "with open('caltech.json', 'r') as fcc_file:\n",
    "    fcc_data = json.load(fcc_file)\n",
    "    for i in range(len(c)):\n",
    "        if str(c[i]) in fcc_data.keys():\n",
    "            m1 = 'This is a photo of ' + fcc_data[str(c[i])]\n",
    "            m.append(m1)\n",
    "\n",
    "print(m)"
   ]
  }
 ],
 "metadata": {
  "kernelspec": {
   "display_name": "Python 3.7.13 ('torch171': conda)",
   "language": "python",
   "name": "python3"
  },
  "language_info": {
   "codemirror_mode": {
    "name": "ipython",
    "version": 3
   },
   "file_extension": ".py",
   "mimetype": "text/x-python",
   "name": "python",
   "nbconvert_exporter": "python",
   "pygments_lexer": "ipython3",
   "version": "3.8.13"
  },
  "orig_nbformat": 4,
  "vscode": {
   "interpreter": {
    "hash": "c73bc775c6f94d98a067ce096eff928d580e9c541aafc395dafbb8814a34bdf4"
   }
  }
 },
 "nbformat": 4,
 "nbformat_minor": 2
}
